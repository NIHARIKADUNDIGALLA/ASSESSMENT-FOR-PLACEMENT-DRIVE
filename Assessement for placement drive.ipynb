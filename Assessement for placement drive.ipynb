{
 "cells": [
  {
   "cell_type": "markdown",
   "id": "d9577b3b",
   "metadata": {},
   "source": [
    "##1)Create a function in python to read the text file and replace specific content of the file."
   ]
  },
  {
   "cell_type": "code",
   "execution_count": 1,
   "id": "9670ce98",
   "metadata": {},
   "outputs": [],
   "source": [
    "file=open(\"example.txt\",\"w+\")\n",
    "file.write(\"This is placement assessment.\")\n",
    "file.close()"
   ]
  },
  {
   "cell_type": "code",
   "execution_count": 2,
   "id": "a4e9a78a",
   "metadata": {},
   "outputs": [
    {
     "data": {
      "text/plain": [
       "['This is placement assessment.']"
      ]
     },
     "execution_count": 2,
     "metadata": {},
     "output_type": "execute_result"
    }
   ],
   "source": [
    "f=open(\"example.txt\",\"r+\")\n",
    "f.readlines()\n"
   ]
  },
  {
   "cell_type": "code",
   "execution_count": 3,
   "id": "cafa4a4c",
   "metadata": {},
   "outputs": [],
   "source": [
    "f.close()"
   ]
  },
  {
   "cell_type": "code",
   "execution_count": 5,
   "id": "1fad6b1b",
   "metadata": {},
   "outputs": [],
   "source": [
    "import re\n",
    "with open(\"example.txt\",\"r+\") as file:\n",
    "    word=file.read()\n",
    "    word=re.sub(\"placement\",\"screening\",word)\n",
    "    file.seek(0)\n",
    "    file.write(word)\n",
    "    file.truncate()\n",
    "    \n",
    "    \n",
    "file.close()"
   ]
  },
  {
   "cell_type": "code",
   "execution_count": 6,
   "id": "a8b7f35d",
   "metadata": {},
   "outputs": [
    {
     "data": {
      "text/plain": [
       "['This is screening assessment.']"
      ]
     },
     "execution_count": 6,
     "metadata": {},
     "output_type": "execute_result"
    }
   ],
   "source": [
    "f=open(\"example.txt\",\"r+\")\n",
    "f.readlines()\n"
   ]
  },
  {
   "cell_type": "markdown",
   "id": "0d8c5800",
   "metadata": {},
   "source": [
    "##2)Demonstrate the use of abstract class , multiple inheritance and decorator in python using examples. "
   ]
  },
  {
   "cell_type": "raw",
   "id": "5026c055",
   "metadata": {},
   "source": [
    "ABSTRACT CLASS:\n",
    "\n",
    "An abstract class is a blueprint for other classes. It helps to create methods , which are created within any child classes built from the abstract class. A class which contains one or more abstract methods is called an abstract class. \n",
    "\n",
    "Python provides a module for the base for defining Abstract Base classes(ABC) and that module name is ABC.\n",
    "The API's are common for all the set of sub classes where a third-party is available for implementation."
   ]
  },
  {
   "cell_type": "raw",
   "id": "190a3bf1",
   "metadata": {},
   "source": [
    "MULTIPLE INHERITANCE:\n",
    "    \n",
    "Inheritance is defined as reusability of code. The child class inherits the properties of parent class."
   ]
  },
  {
   "cell_type": "code",
   "execution_count": 8,
   "id": "462dde92",
   "metadata": {},
   "outputs": [
    {
     "name": "stdout",
     "output_type": "stream",
     "text": [
      "I belong to class2\n"
     ]
    }
   ],
   "source": [
    "##example of multiple inheritance:\n",
    "\n",
    "class class1:\n",
    "    def m(self):\n",
    "        print(\"I belong to class1\")\n",
    "       \n",
    "class class2(class1):\n",
    "    def m(self):\n",
    "        print(\"I belong to class2\") \n",
    "        \n",
    "class class3(class2):\n",
    "    pass  \n",
    "     \n",
    "obj = class3()\n",
    "obj.m()"
   ]
  },
  {
   "cell_type": "code",
   "execution_count": null,
   "id": "55523a6f",
   "metadata": {},
   "outputs": [],
   "source": [
    "DECORATOR:\n",
    "\n",
    "A decorator is a function that takes another function as argument, and returns another function."
   ]
  },
  {
   "cell_type": "code",
   "execution_count": 9,
   "id": "e491f36d",
   "metadata": {},
   "outputs": [
    {
     "data": {
      "text/plain": [
       "8"
      ]
     },
     "execution_count": 9,
     "metadata": {},
     "output_type": "execute_result"
    }
   ],
   "source": [
    "#example of decorator:\n",
    "\n",
    "def add(a,b):\n",
    "    return a+b\n",
    "\n",
    "add(3,5)"
   ]
  },
  {
   "cell_type": "code",
   "execution_count": null,
   "id": "eef28882",
   "metadata": {},
   "outputs": [],
   "source": []
  },
  {
   "cell_type": "code",
   "execution_count": null,
   "id": "9692a90a",
   "metadata": {},
   "outputs": [],
   "source": []
  }
 ],
 "metadata": {
  "kernelspec": {
   "display_name": "Python 3 (ipykernel)",
   "language": "python",
   "name": "python3"
  },
  "language_info": {
   "codemirror_mode": {
    "name": "ipython",
    "version": 3
   },
   "file_extension": ".py",
   "mimetype": "text/x-python",
   "name": "python",
   "nbconvert_exporter": "python",
   "pygments_lexer": "ipython3",
   "version": "3.9.7"
  }
 },
 "nbformat": 4,
 "nbformat_minor": 5
}
